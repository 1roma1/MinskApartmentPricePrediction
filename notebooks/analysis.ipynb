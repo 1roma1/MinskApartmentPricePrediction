{
 "cells": [
  {
   "cell_type": "code",
   "execution_count": 300,
   "metadata": {},
   "outputs": [],
   "source": [
    "import joblib\n",
    "import numpy as np\n",
    "import pandas as pd\n",
    "import matplotlib.pyplot as plt \n",
    "import seaborn as sns; sns.set()"
   ]
  },
  {
   "cell_type": "code",
   "execution_count": 301,
   "metadata": {},
   "outputs": [
    {
     "data": {
      "text/html": [
       "<div>\n",
       "<style scoped>\n",
       "    .dataframe tbody tr th:only-of-type {\n",
       "        vertical-align: middle;\n",
       "    }\n",
       "\n",
       "    .dataframe tbody tr th {\n",
       "        vertical-align: top;\n",
       "    }\n",
       "\n",
       "    .dataframe thead th {\n",
       "        text-align: right;\n",
       "    }\n",
       "</style>\n",
       "<table border=\"1\" class=\"dataframe\">\n",
       "  <thead>\n",
       "    <tr style=\"text-align: right;\">\n",
       "      <th></th>\n",
       "      <th>code</th>\n",
       "      <th>created_at</th>\n",
       "      <th>updated_at</th>\n",
       "      <th>price</th>\n",
       "      <th>price_per_m2</th>\n",
       "      <th>slides</th>\n",
       "      <th>seller</th>\n",
       "      <th>town_district_name</th>\n",
       "      <th>town_sub_district_name</th>\n",
       "      <th>address</th>\n",
       "      <th>...</th>\n",
       "      <th>parking_place</th>\n",
       "      <th>nearest_metro_station</th>\n",
       "      <th>nearest_metro_station_distance</th>\n",
       "      <th>layout</th>\n",
       "      <th>neighbors</th>\n",
       "      <th>number_of_beds</th>\n",
       "      <th>term_of_sale</th>\n",
       "      <th>owner</th>\n",
       "      <th>ceiling_height</th>\n",
       "      <th>is_new_build</th>\n",
       "    </tr>\n",
       "  </thead>\n",
       "  <tbody>\n",
       "    <tr>\n",
       "      <th>2</th>\n",
       "      <td>1465891</td>\n",
       "      <td>2019-03-21T21:59:54+03:00</td>\n",
       "      <td>2023-01-17T17:02:16+03:00</td>\n",
       "      <td>99544.0</td>\n",
       "      <td>1418.0</td>\n",
       "      <td>['https://www.youtube.com/watch?v=vOCuCTLTsFQ'...</td>\n",
       "      <td>Хозяин</td>\n",
       "      <td>Центральный район</td>\n",
       "      <td>Лебяжий (Ржавец)</td>\n",
       "      <td>Минск Ильянская ул. 16</td>\n",
       "      <td>...</td>\n",
       "      <td>False</td>\n",
       "      <td>NaN</td>\n",
       "      <td>NaN</td>\n",
       "      <td>NaN</td>\n",
       "      <td>NaN</td>\n",
       "      <td>NaN</td>\n",
       "      <td>Чистая продажа</td>\n",
       "      <td>частная</td>\n",
       "      <td>2.75</td>\n",
       "      <td>True</td>\n",
       "    </tr>\n",
       "    <tr>\n",
       "      <th>5</th>\n",
       "      <td>2967512</td>\n",
       "      <td>2023-02-16T11:16:02+03:00</td>\n",
       "      <td>2023-02-16T17:05:26+03:00</td>\n",
       "      <td>945000.0</td>\n",
       "      <td>3445.0</td>\n",
       "      <td>['https://static.realt.by/user/o6/4/site1q5yb4...</td>\n",
       "      <td>Агентство</td>\n",
       "      <td>Центральный район</td>\n",
       "      <td>Машерова, Оперный театр, Коммунистическая</td>\n",
       "      <td>Минск Сторожовская ул. 6</td>\n",
       "      <td>...</td>\n",
       "      <td>False</td>\n",
       "      <td>Немига</td>\n",
       "      <td>600.0</td>\n",
       "      <td>NaN</td>\n",
       "      <td>NaN</td>\n",
       "      <td>NaN</td>\n",
       "      <td>Чистая продажа</td>\n",
       "      <td>частная</td>\n",
       "      <td>NaN</td>\n",
       "      <td>False</td>\n",
       "    </tr>\n",
       "    <tr>\n",
       "      <th>6</th>\n",
       "      <td>2893621</td>\n",
       "      <td>2022-10-31T13:42:01+03:00</td>\n",
       "      <td>2022-11-17T11:38:24+03:00</td>\n",
       "      <td>82000.0</td>\n",
       "      <td>1224.0</td>\n",
       "      <td>['https://static.realt.by/user/nl/y/site1km4fy...</td>\n",
       "      <td>Хозяин</td>\n",
       "      <td>Советский район</td>\n",
       "      <td>Я.Коласа-Рига, Некрасова, Восточная</td>\n",
       "      <td>Минск Богдановича ул. 144</td>\n",
       "      <td>...</td>\n",
       "      <td>True</td>\n",
       "      <td>NaN</td>\n",
       "      <td>NaN</td>\n",
       "      <td>улучшенный проект</td>\n",
       "      <td>NaN</td>\n",
       "      <td>NaN</td>\n",
       "      <td>Чистая продажа</td>\n",
       "      <td>частная</td>\n",
       "      <td>2.70</td>\n",
       "      <td>True</td>\n",
       "    </tr>\n",
       "    <tr>\n",
       "      <th>7</th>\n",
       "      <td>2955975</td>\n",
       "      <td>2023-02-01T09:06:58+03:00</td>\n",
       "      <td>2023-02-10T05:00:50+03:00</td>\n",
       "      <td>69900.0</td>\n",
       "      <td>1099.0</td>\n",
       "      <td>['https://static.realt.by/user/2n/3/site1pdd03...</td>\n",
       "      <td>Агентство</td>\n",
       "      <td>Октябрьский район</td>\n",
       "      <td>Минск Мир (Minsk World)</td>\n",
       "      <td>Минск Аэродромная ул. 26</td>\n",
       "      <td>...</td>\n",
       "      <td>False</td>\n",
       "      <td>Аэродромная (2023)</td>\n",
       "      <td>550.0</td>\n",
       "      <td>свободная планировка</td>\n",
       "      <td>NaN</td>\n",
       "      <td>NaN</td>\n",
       "      <td>Чистая продажа</td>\n",
       "      <td>частная</td>\n",
       "      <td>2.73</td>\n",
       "      <td>False</td>\n",
       "    </tr>\n",
       "    <tr>\n",
       "      <th>9</th>\n",
       "      <td>2835309</td>\n",
       "      <td>2022-08-18T10:05:51+03:00</td>\n",
       "      <td>2023-01-31T15:40:27+03:00</td>\n",
       "      <td>137000.0</td>\n",
       "      <td>2042.0</td>\n",
       "      <td>['https://static.realt.by/user/6o/q/site1gsu6q...</td>\n",
       "      <td>Агентство</td>\n",
       "      <td>Центральный район</td>\n",
       "      <td>Червякова, Шевченко</td>\n",
       "      <td>Минск Нововиленская ул. 10</td>\n",
       "      <td>...</td>\n",
       "      <td>False</td>\n",
       "      <td>NaN</td>\n",
       "      <td>NaN</td>\n",
       "      <td>NaN</td>\n",
       "      <td>NaN</td>\n",
       "      <td>NaN</td>\n",
       "      <td>Чистая продажа</td>\n",
       "      <td>частная</td>\n",
       "      <td>2.70</td>\n",
       "      <td>False</td>\n",
       "    </tr>\n",
       "  </tbody>\n",
       "</table>\n",
       "<p>5 rows × 42 columns</p>\n",
       "</div>"
      ],
      "text/plain": [
       "      code                 created_at                 updated_at     price  \\\n",
       "2  1465891  2019-03-21T21:59:54+03:00  2023-01-17T17:02:16+03:00   99544.0   \n",
       "5  2967512  2023-02-16T11:16:02+03:00  2023-02-16T17:05:26+03:00  945000.0   \n",
       "6  2893621  2022-10-31T13:42:01+03:00  2022-11-17T11:38:24+03:00   82000.0   \n",
       "7  2955975  2023-02-01T09:06:58+03:00  2023-02-10T05:00:50+03:00   69900.0   \n",
       "9  2835309  2022-08-18T10:05:51+03:00  2023-01-31T15:40:27+03:00  137000.0   \n",
       "\n",
       "   price_per_m2                                             slides     seller  \\\n",
       "2        1418.0  ['https://www.youtube.com/watch?v=vOCuCTLTsFQ'...     Хозяин   \n",
       "5        3445.0  ['https://static.realt.by/user/o6/4/site1q5yb4...  Агентство   \n",
       "6        1224.0  ['https://static.realt.by/user/nl/y/site1km4fy...     Хозяин   \n",
       "7        1099.0  ['https://static.realt.by/user/2n/3/site1pdd03...  Агентство   \n",
       "9        2042.0  ['https://static.realt.by/user/6o/q/site1gsu6q...  Агентство   \n",
       "\n",
       "  town_district_name                     town_sub_district_name  \\\n",
       "2  Центральный район                           Лебяжий (Ржавец)   \n",
       "5  Центральный район  Машерова, Оперный театр, Коммунистическая   \n",
       "6    Советский район        Я.Коласа-Рига, Некрасова, Восточная   \n",
       "7  Октябрьский район                    Минск Мир (Minsk World)   \n",
       "9  Центральный район                        Червякова, Шевченко   \n",
       "\n",
       "                      address  ...  parking_place  nearest_metro_station  \\\n",
       "2      Минск Ильянская ул. 16  ...          False                    NaN   \n",
       "5    Минск Сторожовская ул. 6  ...          False                 Немига   \n",
       "6   Минск Богдановича ул. 144  ...           True                    NaN   \n",
       "7    Минск Аэродромная ул. 26  ...          False     Аэродромная (2023)   \n",
       "9  Минск Нововиленская ул. 10  ...          False                    NaN   \n",
       "\n",
       "   nearest_metro_station_distance                layout  neighbors  \\\n",
       "2                             NaN                   NaN        NaN   \n",
       "5                           600.0                   NaN        NaN   \n",
       "6                             NaN     улучшенный проект        NaN   \n",
       "7                           550.0  свободная планировка        NaN   \n",
       "9                             NaN                   NaN        NaN   \n",
       "\n",
       "   number_of_beds    term_of_sale    owner  ceiling_height  is_new_build  \n",
       "2             NaN  Чистая продажа  частная            2.75          True  \n",
       "5             NaN  Чистая продажа  частная             NaN         False  \n",
       "6             NaN  Чистая продажа  частная            2.70          True  \n",
       "7             NaN  Чистая продажа  частная            2.73         False  \n",
       "9             NaN  Чистая продажа  частная            2.70         False  \n",
       "\n",
       "[5 rows x 42 columns]"
      ]
     },
     "execution_count": 301,
     "metadata": {},
     "output_type": "execute_result"
    }
   ],
   "source": [
    "df = pd.read_csv(\"../data/2023_02_18/apartment_data.csv\")\n",
    "df = df[df[\"building_year\"] < 2023]\n",
    "df = df[~df[\"price\"].isna()]\n",
    "df.head()"
   ]
  },
  {
   "cell_type": "code",
   "execution_count": 302,
   "metadata": {},
   "outputs": [],
   "source": [
    "df = df[[\"price\", \n",
    "\"town_district_name\", \n",
    "\"building_year\", \"area_total\", \n",
    "\"area_living\", \"area_kitchen\", \n",
    "\"rooms\",\"storeys\", \"storey\",\n",
    "\"toilet\", \"balcony_type\",\n",
    "\"house_type\", \"floor_type\",\n",
    "\"nearest_metro_station\",\n",
    "\"ceiling_height\"]]"
   ]
  },
  {
   "cell_type": "code",
   "execution_count": 303,
   "metadata": {},
   "outputs": [
    {
     "data": {
      "text/html": [
       "<div>\n",
       "<style scoped>\n",
       "    .dataframe tbody tr th:only-of-type {\n",
       "        vertical-align: middle;\n",
       "    }\n",
       "\n",
       "    .dataframe tbody tr th {\n",
       "        vertical-align: top;\n",
       "    }\n",
       "\n",
       "    .dataframe thead th {\n",
       "        text-align: right;\n",
       "    }\n",
       "</style>\n",
       "<table border=\"1\" class=\"dataframe\">\n",
       "  <thead>\n",
       "    <tr style=\"text-align: right;\">\n",
       "      <th></th>\n",
       "      <th>price</th>\n",
       "      <th>town_district_name</th>\n",
       "      <th>building_year</th>\n",
       "      <th>area_total</th>\n",
       "      <th>area_living</th>\n",
       "      <th>area_kitchen</th>\n",
       "      <th>rooms</th>\n",
       "      <th>storeys</th>\n",
       "      <th>storey</th>\n",
       "      <th>toilet</th>\n",
       "      <th>balcony_type</th>\n",
       "      <th>house_type</th>\n",
       "      <th>floor_type</th>\n",
       "      <th>nearest_metro_station</th>\n",
       "      <th>ceiling_height</th>\n",
       "    </tr>\n",
       "  </thead>\n",
       "  <tbody>\n",
       "    <tr>\n",
       "      <th>2</th>\n",
       "      <td>99544.0</td>\n",
       "      <td>Центральный район</td>\n",
       "      <td>2021.0</td>\n",
       "      <td>70.2</td>\n",
       "      <td>61.9</td>\n",
       "      <td>NaN</td>\n",
       "      <td>2</td>\n",
       "      <td>25.0</td>\n",
       "      <td>3.0</td>\n",
       "      <td>Раздельный</td>\n",
       "      <td>лоджия застекленная</td>\n",
       "      <td>Каркасно-блочный</td>\n",
       "      <td>NaN</td>\n",
       "      <td>NaN</td>\n",
       "      <td>2.75</td>\n",
       "    </tr>\n",
       "    <tr>\n",
       "      <th>5</th>\n",
       "      <td>945000.0</td>\n",
       "      <td>Центральный район</td>\n",
       "      <td>2012.0</td>\n",
       "      <td>274.3</td>\n",
       "      <td>203.8</td>\n",
       "      <td>18.0</td>\n",
       "      <td>4</td>\n",
       "      <td>23.0</td>\n",
       "      <td>12.0</td>\n",
       "      <td>Раздельный</td>\n",
       "      <td>Нет</td>\n",
       "      <td>Каркасно-блочный</td>\n",
       "      <td>паркет</td>\n",
       "      <td>Немига</td>\n",
       "      <td>NaN</td>\n",
       "    </tr>\n",
       "    <tr>\n",
       "      <th>6</th>\n",
       "      <td>82000.0</td>\n",
       "      <td>Советский район</td>\n",
       "      <td>2022.0</td>\n",
       "      <td>67.0</td>\n",
       "      <td>39.0</td>\n",
       "      <td>NaN</td>\n",
       "      <td>2</td>\n",
       "      <td>26.0</td>\n",
       "      <td>11.0</td>\n",
       "      <td>Раздельный</td>\n",
       "      <td>Лоджия</td>\n",
       "      <td>Каркасно-блочный</td>\n",
       "      <td>NaN</td>\n",
       "      <td>NaN</td>\n",
       "      <td>2.70</td>\n",
       "    </tr>\n",
       "    <tr>\n",
       "      <th>7</th>\n",
       "      <td>69900.0</td>\n",
       "      <td>Октябрьский район</td>\n",
       "      <td>2022.0</td>\n",
       "      <td>63.6</td>\n",
       "      <td>30.0</td>\n",
       "      <td>NaN</td>\n",
       "      <td>2</td>\n",
       "      <td>29.0</td>\n",
       "      <td>2.0</td>\n",
       "      <td>Совмещенный</td>\n",
       "      <td>Нет</td>\n",
       "      <td>Каркасно-блочный</td>\n",
       "      <td>бетонная стяжка</td>\n",
       "      <td>Аэродромная (2023)</td>\n",
       "      <td>2.73</td>\n",
       "    </tr>\n",
       "    <tr>\n",
       "      <th>9</th>\n",
       "      <td>137000.0</td>\n",
       "      <td>Центральный район</td>\n",
       "      <td>2007.0</td>\n",
       "      <td>67.1</td>\n",
       "      <td>48.2</td>\n",
       "      <td>NaN</td>\n",
       "      <td>2</td>\n",
       "      <td>10.0</td>\n",
       "      <td>7.0</td>\n",
       "      <td>Совмещенный</td>\n",
       "      <td>лоджия застекленная</td>\n",
       "      <td>Кирпичный</td>\n",
       "      <td>NaN</td>\n",
       "      <td>NaN</td>\n",
       "      <td>2.70</td>\n",
       "    </tr>\n",
       "  </tbody>\n",
       "</table>\n",
       "</div>"
      ],
      "text/plain": [
       "      price town_district_name  building_year  area_total  area_living  \\\n",
       "2   99544.0  Центральный район         2021.0        70.2         61.9   \n",
       "5  945000.0  Центральный район         2012.0       274.3        203.8   \n",
       "6   82000.0    Советский район         2022.0        67.0         39.0   \n",
       "7   69900.0  Октябрьский район         2022.0        63.6         30.0   \n",
       "9  137000.0  Центральный район         2007.0        67.1         48.2   \n",
       "\n",
       "   area_kitchen  rooms  storeys  storey       toilet         balcony_type  \\\n",
       "2           NaN      2     25.0     3.0   Раздельный  лоджия застекленная   \n",
       "5          18.0      4     23.0    12.0   Раздельный                  Нет   \n",
       "6           NaN      2     26.0    11.0   Раздельный               Лоджия   \n",
       "7           NaN      2     29.0     2.0  Совмещенный                  Нет   \n",
       "9           NaN      2     10.0     7.0  Совмещенный  лоджия застекленная   \n",
       "\n",
       "         house_type       floor_type nearest_metro_station  ceiling_height  \n",
       "2  Каркасно-блочный              NaN                   NaN            2.75  \n",
       "5  Каркасно-блочный           паркет                Немига             NaN  \n",
       "6  Каркасно-блочный              NaN                   NaN            2.70  \n",
       "7  Каркасно-блочный  бетонная стяжка    Аэродромная (2023)            2.73  \n",
       "9         Кирпичный              NaN                   NaN            2.70  "
      ]
     },
     "execution_count": 303,
     "metadata": {},
     "output_type": "execute_result"
    }
   ],
   "source": [
    "df.head()"
   ]
  },
  {
   "cell_type": "code",
   "execution_count": 304,
   "metadata": {},
   "outputs": [
    {
     "name": "stdout",
     "output_type": "stream",
     "text": [
      "<class 'pandas.core.frame.DataFrame'>\n",
      "Int64Index: 9501 entries, 2 to 19355\n",
      "Data columns (total 15 columns):\n",
      " #   Column                 Non-Null Count  Dtype  \n",
      "---  ------                 --------------  -----  \n",
      " 0   price                  9501 non-null   float64\n",
      " 1   town_district_name     9319 non-null   object \n",
      " 2   building_year          9501 non-null   float64\n",
      " 3   area_total             9501 non-null   float64\n",
      " 4   area_living            9415 non-null   float64\n",
      " 5   area_kitchen           6669 non-null   float64\n",
      " 6   rooms                  9501 non-null   int64  \n",
      " 7   storeys                9494 non-null   float64\n",
      " 8   storey                 9492 non-null   float64\n",
      " 9   toilet                 9005 non-null   object \n",
      " 10  balcony_type           9390 non-null   object \n",
      " 11  house_type             9489 non-null   object \n",
      " 12  floor_type             7408 non-null   object \n",
      " 13  nearest_metro_station  6561 non-null   object \n",
      " 14  ceiling_height         7709 non-null   float64\n",
      "dtypes: float64(8), int64(1), object(6)\n",
      "memory usage: 1.2+ MB\n"
     ]
    }
   ],
   "source": [
    "\n",
    "df.info()"
   ]
  },
  {
   "attachments": {},
   "cell_type": "markdown",
   "metadata": {},
   "source": [
    "# EDA"
   ]
  },
  {
   "attachments": {},
   "cell_type": "markdown",
   "metadata": {},
   "source": [
    "## Town district name"
   ]
  },
  {
   "cell_type": "code",
   "execution_count": 305,
   "metadata": {},
   "outputs": [
    {
     "data": {
      "text/plain": [
       "array(['Центральный район', 'Советский район', 'Октябрьский район',\n",
       "       'Заводской район', 'Первомайский район', 'Фрунзенский район',\n",
       "       'Московский район', nan, 'Ленинский район', 'Партизанский район'],\n",
       "      dtype=object)"
      ]
     },
     "execution_count": 305,
     "metadata": {},
     "output_type": "execute_result"
    }
   ],
   "source": [
    "df[\"town_district_name\"].unique()"
   ]
  },
  {
   "cell_type": "code",
   "execution_count": 306,
   "metadata": {},
   "outputs": [],
   "source": [
    "df[\"town_district_name\"] = df[\"town_district_name\"].fillna(df[\"town_district_name\"].mode().iloc[0])"
   ]
  },
  {
   "cell_type": "code",
   "execution_count": 307,
   "metadata": {},
   "outputs": [],
   "source": [
    "town_district_mapping = {'Центральный район': 'Tsentralny', 'Октябрьский район': 'Oktyabrsky', 'Первомайский район': 'Pervomaisky',\n",
    "       'Московский район': 'Moskovsky', 'Фрунзенский район': 'Frunzensky', 'Советский район': 'Sovetsky',\n",
    "       'Ленинский район': 'Leninsky', 'Заводской район': 'Zavodskoy', 'Партизанский район': 'Partizansky'}\n",
    "\n",
    "df[\"town_district_name\"] = df[\"town_district_name\"].map(town_district_mapping)"
   ]
  },
  {
   "attachments": {},
   "cell_type": "markdown",
   "metadata": {},
   "source": [
    "## Building year"
   ]
  },
  {
   "cell_type": "code",
   "execution_count": 308,
   "metadata": {},
   "outputs": [
    {
     "data": {
      "text/plain": [
       "array([2021., 2012., 2022., 2007., 1982., 2011., 2008., 2016., 2015.,\n",
       "       1996., 2014., 2004., 1975., 1946., 2010., 1967., 1989., 1971.,\n",
       "       1972., 1994., 1995., 1969., 2002., 1984., 1956., 1977., 1986.,\n",
       "       2020., 1955., 1990., 2001., 1978., 2013., 2019., 2003., 1999.,\n",
       "       2017., 1958., 1985., 1973., 1987., 1980., 2018., 1939., 1976.,\n",
       "       1966., 1970., 1957., 1962., 1964., 2000., 1965., 1993., 1974.,\n",
       "       1963., 1981., 1960., 1959., 2009., 1998., 1997., 1953., 1991.,\n",
       "       2005., 1992., 1954., 1988., 2006., 1968., 1961., 1948., 1950.,\n",
       "       1983., 1938., 1979., 1947., 1936., 1937., 1930., 1951., 1918.,\n",
       "       1940., 1949., 1952., 1917., 1928., 1931., 1945., 1941.,    0.,\n",
       "       1935., 1924., 1932.])"
      ]
     },
     "execution_count": 308,
     "metadata": {},
     "output_type": "execute_result"
    }
   ],
   "source": [
    "df[\"building_year\"].unique()"
   ]
  },
  {
   "attachments": {},
   "cell_type": "markdown",
   "metadata": {},
   "source": [
    "## Total area"
   ]
  },
  {
   "cell_type": "code",
   "execution_count": 309,
   "metadata": {},
   "outputs": [
    {
     "data": {
      "text/plain": [
       "<Axes: xlabel='area_total', ylabel='Count'>"
      ]
     },
     "execution_count": 309,
     "metadata": {},
     "output_type": "execute_result"
    },
    {
     "data": {
      "image/png": "[encoded data removed]",
      "text/plain": [
       "<Figure size 640x480 with 1 Axes>"
      ]
     },
     "metadata": {},
     "output_type": "display_data"
    }
   ],
   "source": [
    "sns.histplot(data=df, x=\"area_total\")"
   ]
  },
  {
   "attachments": {},
   "cell_type": "markdown",
   "metadata": {},
   "source": [
    "## Living area"
   ]
  },
  {
   "cell_type": "code",
   "execution_count": 310,
   "metadata": {},
   "outputs": [
    {
     "data": {
      "text/plain": [
       "<Axes: xlabel='area_living', ylabel='Count'>"
      ]
     },
     "execution_count": 310,
     "metadata": {},
     "output_type": "execute_result"
    },
    {
     "data": {
      "image/png": "[encoded data removed]",
      "text/plain": [
       "<Figure size 640x480 with 1 Axes>"
      ]
     },
     "metadata": {},
     "output_type": "display_data"
    }
   ],
   "source": [
    "sns.histplot(data=df, x=\"area_living\")"
   ]
  },
  {
   "cell_type": "code",
   "execution_count": 311,
   "metadata": {},
   "outputs": [
    {
     "data": {
      "text/html": [
       "<div>\n",
       "<style scoped>\n",
       "    .dataframe tbody tr th:only-of-type {\n",
       "        vertical-align: middle;\n",
       "    }\n",
       "\n",
       "    .dataframe tbody tr th {\n",
       "        vertical-align: top;\n",
       "    }\n",
       "\n",
       "    .dataframe thead th {\n",
       "        text-align: right;\n",
       "    }\n",
       "</style>\n",
       "<table border=\"1\" class=\"dataframe\">\n",
       "  <thead>\n",
       "    <tr style=\"text-align: right;\">\n",
       "      <th></th>\n",
       "      <th>living_area_percent</th>\n",
       "    </tr>\n",
       "    <tr>\n",
       "      <th>rooms</th>\n",
       "      <th></th>\n",
       "    </tr>\n",
       "  </thead>\n",
       "  <tbody>\n",
       "    <tr>\n",
       "      <th>1</th>\n",
       "      <td>0.584120</td>\n",
       "    </tr>\n",
       "    <tr>\n",
       "      <th>2</th>\n",
       "      <td>0.637554</td>\n",
       "    </tr>\n",
       "    <tr>\n",
       "      <th>3</th>\n",
       "      <td>0.663572</td>\n",
       "    </tr>\n",
       "    <tr>\n",
       "      <th>4</th>\n",
       "      <td>0.662734</td>\n",
       "    </tr>\n",
       "    <tr>\n",
       "      <th>5</th>\n",
       "      <td>0.586216</td>\n",
       "    </tr>\n",
       "    <tr>\n",
       "      <th>6</th>\n",
       "      <td>0.454725</td>\n",
       "    </tr>\n",
       "    <tr>\n",
       "      <th>7</th>\n",
       "      <td>0.637665</td>\n",
       "    </tr>\n",
       "    <tr>\n",
       "      <th>8</th>\n",
       "      <td>0.539676</td>\n",
       "    </tr>\n",
       "    <tr>\n",
       "      <th>9</th>\n",
       "      <td>0.570000</td>\n",
       "    </tr>\n",
       "    <tr>\n",
       "      <th>10</th>\n",
       "      <td>0.554980</td>\n",
       "    </tr>\n",
       "  </tbody>\n",
       "</table>\n",
       "</div>"
      ],
      "text/plain": [
       "       living_area_percent\n",
       "rooms                     \n",
       "1                 0.584120\n",
       "2                 0.637554\n",
       "3                 0.663572\n",
       "4                 0.662734\n",
       "5                 0.586216\n",
       "6                 0.454725\n",
       "7                 0.637665\n",
       "8                 0.539676\n",
       "9                 0.570000\n",
       "10                0.554980"
      ]
     },
     "execution_count": 311,
     "metadata": {},
     "output_type": "execute_result"
    }
   ],
   "source": [
    "df.assign(\n",
    "    living_area_percent = df[\"area_living\"]/df[\"area_total\"]\n",
    ").loc[:, [\"living_area_percent\", \"rooms\"]].groupby(\"rooms\").mean()"
   ]
  },
  {
   "cell_type": "code",
   "execution_count": 312,
   "metadata": {},
   "outputs": [],
   "source": [
    "df[\"area_living\"] = df[\"area_living\"].fillna(0.58*df[\"area_total\"])"
   ]
  },
  {
   "attachments": {},
   "cell_type": "markdown",
   "metadata": {},
   "source": [
    "## Kitchen area"
   ]
  },
  {
   "cell_type": "code",
   "execution_count": 313,
   "metadata": {},
   "outputs": [
    {
     "data": {
      "text/plain": [
       "2832"
      ]
     },
     "execution_count": 313,
     "metadata": {},
     "output_type": "execute_result"
    }
   ],
   "source": [
    "len(df[df[\"area_kitchen\"].isna()])"
   ]
  },
  {
   "cell_type": "code",
   "execution_count": 314,
   "metadata": {},
   "outputs": [
    {
     "data": {
      "text/plain": [
       "<Axes: xlabel='area_kitchen', ylabel='Count'>"
      ]
     },
     "execution_count": 314,
     "metadata": {},
     "output_type": "execute_result"
    },
    {
     "data": {
      "image/png": "[encoded data removed]",
      "text/plain": [
       "<Figure size 640x480 with 1 Axes>"
      ]
     },
     "metadata": {},
     "output_type": "display_data"
    }
   ],
   "source": [
    "sns.histplot(data=df, x=\"area_kitchen\")"
   ]
  },
  {
   "cell_type": "code",
   "execution_count": 315,
   "metadata": {},
   "outputs": [
    {
     "data": {
      "text/html": [
       "<div>\n",
       "<style scoped>\n",
       "    .dataframe tbody tr th:only-of-type {\n",
       "        vertical-align: middle;\n",
       "    }\n",
       "\n",
       "    .dataframe tbody tr th {\n",
       "        vertical-align: top;\n",
       "    }\n",
       "\n",
       "    .dataframe thead th {\n",
       "        text-align: right;\n",
       "    }\n",
       "</style>\n",
       "<table border=\"1\" class=\"dataframe\">\n",
       "  <thead>\n",
       "    <tr style=\"text-align: right;\">\n",
       "      <th></th>\n",
       "      <th>kitchen_area_percent</th>\n",
       "    </tr>\n",
       "    <tr>\n",
       "      <th>rooms</th>\n",
       "      <th></th>\n",
       "    </tr>\n",
       "  </thead>\n",
       "  <tbody>\n",
       "    <tr>\n",
       "      <th>1</th>\n",
       "      <td>0.222773</td>\n",
       "    </tr>\n",
       "    <tr>\n",
       "      <th>2</th>\n",
       "      <td>0.174196</td>\n",
       "    </tr>\n",
       "    <tr>\n",
       "      <th>3</th>\n",
       "      <td>0.137798</td>\n",
       "    </tr>\n",
       "    <tr>\n",
       "      <th>4</th>\n",
       "      <td>0.120384</td>\n",
       "    </tr>\n",
       "    <tr>\n",
       "      <th>5</th>\n",
       "      <td>0.111048</td>\n",
       "    </tr>\n",
       "    <tr>\n",
       "      <th>6</th>\n",
       "      <td>0.101148</td>\n",
       "    </tr>\n",
       "    <tr>\n",
       "      <th>7</th>\n",
       "      <td>0.068644</td>\n",
       "    </tr>\n",
       "    <tr>\n",
       "      <th>8</th>\n",
       "      <td>0.167013</td>\n",
       "    </tr>\n",
       "    <tr>\n",
       "      <th>9</th>\n",
       "      <td>0.072222</td>\n",
       "    </tr>\n",
       "    <tr>\n",
       "      <th>10</th>\n",
       "      <td>0.137004</td>\n",
       "    </tr>\n",
       "  </tbody>\n",
       "</table>\n",
       "</div>"
      ],
      "text/plain": [
       "       kitchen_area_percent\n",
       "rooms                      \n",
       "1                  0.222773\n",
       "2                  0.174196\n",
       "3                  0.137798\n",
       "4                  0.120384\n",
       "5                  0.111048\n",
       "6                  0.101148\n",
       "7                  0.068644\n",
       "8                  0.167013\n",
       "9                  0.072222\n",
       "10                 0.137004"
      ]
     },
     "execution_count": 315,
     "metadata": {},
     "output_type": "execute_result"
    }
   ],
   "source": [
    "df.assign(\n",
    "    kitchen_area_percent = df[\"area_kitchen\"]/df[\"area_total\"]\n",
    ").loc[:, [\"kitchen_area_percent\", \"rooms\"]].groupby(\"rooms\").mean()"
   ]
  },
  {
   "cell_type": "code",
   "execution_count": 316,
   "metadata": {},
   "outputs": [],
   "source": [
    "df[\"area_kitchen\"] = df[\"area_kitchen\"].fillna(0.16*df[\"area_total\"])"
   ]
  },
  {
   "attachments": {},
   "cell_type": "markdown",
   "metadata": {},
   "source": [
    "## Rooms"
   ]
  },
  {
   "cell_type": "code",
   "execution_count": 317,
   "metadata": {},
   "outputs": [
    {
     "data": {
      "text/plain": [
       "array([ 2,  4,  1,  3,  6,  5, 10,  7,  8,  9], dtype=int64)"
      ]
     },
     "execution_count": 317,
     "metadata": {},
     "output_type": "execute_result"
    }
   ],
   "source": [
    "df[\"rooms\"].unique()"
   ]
  },
  {
   "cell_type": "code",
   "execution_count": 318,
   "metadata": {},
   "outputs": [
    {
     "data": {
      "text/plain": [
       "3     3287\n",
       "2     3041\n",
       "1     2064\n",
       "4      956\n",
       "5      110\n",
       "6       35\n",
       "7        5\n",
       "10       1\n",
       "8        1\n",
       "9        1\n",
       "Name: rooms, dtype: int64"
      ]
     },
     "execution_count": 318,
     "metadata": {},
     "output_type": "execute_result"
    }
   ],
   "source": [
    "df[\"rooms\"].value_counts()"
   ]
  },
  {
   "cell_type": "code",
   "execution_count": 319,
   "metadata": {},
   "outputs": [
    {
     "data": {
      "text/plain": [
       "<Axes: xlabel='rooms', ylabel='count'>"
      ]
     },
     "execution_count": 319,
     "metadata": {},
     "output_type": "execute_result"
    },
    {
     "data": {
      "image/png": "[encoded data removed]",
      "text/plain": [
       "<Figure size 640x480 with 1 Axes>"
      ]
     },
     "metadata": {},
     "output_type": "display_data"
    }
   ],
   "source": [
    "sns.countplot(x=df[\"rooms\"])"
   ]
  },
  {
   "attachments": {},
   "cell_type": "markdown",
   "metadata": {},
   "source": [
    "## Storeys                         "
   ]
  },
  {
   "cell_type": "code",
   "execution_count": 320,
   "metadata": {},
   "outputs": [
    {
     "data": {
      "text/plain": [
       "array([25., 23., 26., 29., 10.,  9.,  5., 15., 14., 19., 16., 20.,  6.,\n",
       "        7., 17.,  4., 24., 12.,  8., 13., 18.,  3., 21., 22., 11., 32.,\n",
       "       nan,  2., 33., 27.,  1., 30., 37., 28.])"
      ]
     },
     "execution_count": 320,
     "metadata": {},
     "output_type": "execute_result"
    }
   ],
   "source": [
    "df[\"storeys\"].unique()"
   ]
  },
  {
   "cell_type": "code",
   "execution_count": 321,
   "metadata": {},
   "outputs": [],
   "source": [
    "df[\"storeys\"] = df[\"storeys\"].fillna(value=1)"
   ]
  },
  {
   "attachments": {},
   "cell_type": "markdown",
   "metadata": {},
   "source": [
    "## Storey"
   ]
  },
  {
   "cell_type": "code",
   "execution_count": 322,
   "metadata": {},
   "outputs": [
    {
     "data": {
      "text/plain": [
       "array([ 3., 12., 11.,  2.,  7.,  6.,  5., 13.,  8., 19., 16.,  4.,  1.,\n",
       "        9., 10., 14., 15., 24., 23., 18., 17., 22., 21., 20., 26., 25.,\n",
       "       nan, 27., 32., 28., 30., 42.])"
      ]
     },
     "execution_count": 322,
     "metadata": {},
     "output_type": "execute_result"
    }
   ],
   "source": [
    "df[\"storey\"].unique()"
   ]
  },
  {
   "cell_type": "code",
   "execution_count": 323,
   "metadata": {},
   "outputs": [],
   "source": [
    "df[\"storey\"] = df[\"storey\"].fillna(value=1)"
   ]
  },
  {
   "attachments": {},
   "cell_type": "markdown",
   "metadata": {},
   "source": [
    "## Toilet"
   ]
  },
  {
   "cell_type": "code",
   "execution_count": 324,
   "metadata": {},
   "outputs": [
    {
     "data": {
      "text/plain": [
       "array(['Раздельный', 'Совмещенный', '2 и более', nan, '3 сан.узла',\n",
       "       '4 сан.узла'], dtype=object)"
      ]
     },
     "execution_count": 324,
     "metadata": {},
     "output_type": "execute_result"
    }
   ],
   "source": [
    "df[\"toilet\"].unique()"
   ]
  },
  {
   "cell_type": "code",
   "execution_count": 325,
   "metadata": {},
   "outputs": [
    {
     "data": {
      "text/plain": [
       "Раздельный     4322\n",
       "Совмещенный    3517\n",
       "2 и более      1101\n",
       "3 сан.узла       52\n",
       "4 сан.узла       13\n",
       "Name: toilet, dtype: int64"
      ]
     },
     "execution_count": 325,
     "metadata": {},
     "output_type": "execute_result"
    }
   ],
   "source": [
    "df[\"toilet\"].value_counts()"
   ]
  },
  {
   "cell_type": "code",
   "execution_count": 326,
   "metadata": {},
   "outputs": [],
   "source": [
    "def process_toilet_feature(x):\n",
    "    if x in [\"Раздельный\", \"Совмещенный\", \"2 и более\"]:\n",
    "        return x\n",
    "    elif x in [\"3 сан. узла\", \"4 сан. узла\"]:\n",
    "        return \"2 и более\""
   ]
  },
  {
   "cell_type": "code",
   "execution_count": 327,
   "metadata": {},
   "outputs": [],
   "source": [
    "df[\"toilet\"] = (\n",
    "    df[\"toilet\"]\n",
    "    .apply(process_toilet_feature)\n",
    "    .fillna(df[\"toilet\"].mode()[0])\n",
    ")"
   ]
  },
  {
   "cell_type": "code",
   "execution_count": 328,
   "metadata": {},
   "outputs": [],
   "source": [
    "toilet_mapping = {\"Раздельный\": \"Separate\", \"Совмещенный\": \"Combined\", \"2 и более\": \"2 and more\"}\n",
    "df[\"toilet\"] = df[\"toilet\"].map(toilet_mapping)"
   ]
  },
  {
   "attachments": {},
   "cell_type": "markdown",
   "metadata": {},
   "source": [
    "## Balcony type                    "
   ]
  },
  {
   "cell_type": "code",
   "execution_count": 329,
   "metadata": {},
   "outputs": [
    {
     "data": {
      "text/plain": [
       "array(['лоджия застекленная', 'Нет', 'Лоджия', 'балкон+терраса',\n",
       "       '2 лоджии застекленные', '2 лоджии', 'балкон застекленный',\n",
       "       'балкон', 'лоджия из кухни застеклена', '2 балкона застекленные',\n",
       "       'балкон застекленный + вагонка', 'терраса', 'балкон и лоджия', nan,\n",
       "       '3 лоджии застекленные', '3 лоджии',\n",
       "       '2 балкона застекленные + вагонка', '2 балкона',\n",
       "       'лоджия застекленная + вагонка', '3 балкона застекленных',\n",
       "       '2 лоджии 1 застекленная', 'лоджия из кухни застеклена + вагонка',\n",
       "       '2 балкона 1 застекленный', '2 лоджии застекленные + вагонка',\n",
       "       'лоджия из кухни', '3 балкона', 'веранда'], dtype=object)"
      ]
     },
     "execution_count": 329,
     "metadata": {},
     "output_type": "execute_result"
    }
   ],
   "source": [
    "df[\"balcony_type\"].unique()"
   ]
  },
  {
   "cell_type": "code",
   "execution_count": 330,
   "metadata": {},
   "outputs": [
    {
     "data": {
      "text/plain": [
       "лоджия застекленная                     4321\n",
       "Лоджия                                  1085\n",
       "балкон застекленный                      860\n",
       "Нет                                      731\n",
       "балкон                                   695\n",
       "2 лоджии застекленные                    567\n",
       "2 лоджии                                 191\n",
       "балкон и лоджия                          173\n",
       "терраса                                  166\n",
       "2 балкона                                102\n",
       "2 балкона застекленные                    83\n",
       "лоджия из кухни застеклена                70\n",
       "лоджия застекленная + вагонка             60\n",
       "балкон+терраса                            55\n",
       "2 лоджии 1 застекленная                   42\n",
       "3 лоджии застекленные                     41\n",
       "3 лоджии                                  27\n",
       "балкон застекленный + вагонка             26\n",
       "2 лоджии застекленные + вагонка           22\n",
       "лоджия из кухни                           19\n",
       "3 балкона                                 17\n",
       "3 балкона застекленных                    11\n",
       "2 балкона 1 застекленный                  10\n",
       "2 балкона застекленные + вагонка           9\n",
       "лоджия из кухни застеклена + вагонка       4\n",
       "веранда                                    3\n",
       "Name: balcony_type, dtype: int64"
      ]
     },
     "execution_count": 330,
     "metadata": {},
     "output_type": "execute_result"
    }
   ],
   "source": [
    "df[\"balcony_type\"].value_counts()"
   ]
  },
  {
   "cell_type": "code",
   "execution_count": 331,
   "metadata": {},
   "outputs": [],
   "source": [
    "def map_balcony(x):\n",
    "    loggias = [\"лоджия застекленная\", \"лоджия\", \"лоджия из кухни застеклена\",\n",
    "           \"лоджия из кухни\", \"лоджия из кухни застеклена + вагонка\", \"балкон и лоджия\"]\n",
    "    balconies = [\"балкон застекленный\", \"балкон\", \"балкон застекленный + вагонка\"]\n",
    "    two_balconies = [\"2 лоджии застекленные\", \"2 лоджии\", \"2 балкона\", \"2 балкона застекленные\", \n",
    "                     \"балкон+терраса\", \"3 лоджии застекленные\", \"балкон+терраса\", \n",
    "                     \"2 лоджии застекленные + вагонка\", \"3 лоджии\", \"3 балкона\", \"2 балкона застекленные + вагонка\",\n",
    "                     \"2 лоджии 1 застекленная\", \"3 балкона застекленных\", \"2 балкона 1 застекленный\"]\n",
    "\n",
    "    if x == 'Нет':\n",
    "        return 'Нет'\n",
    "    elif x in loggias:\n",
    "        return 'Лоджия'\n",
    "    elif x in balconies:\n",
    "        return 'Балкон'\n",
    "    elif x in two_balconies:\n",
    "        return 'Два балкона'\n",
    "    else:\n",
    "        return 'Балкон'"
   ]
  },
  {
   "cell_type": "code",
   "execution_count": 332,
   "metadata": {},
   "outputs": [],
   "source": [
    "df[\"balcony_type\"] = (\n",
    "    df[\"balcony_type\"]\n",
    "    .fillna(df[\"balcony_type\"].mode()[0])\n",
    "    .map(map_balcony)\n",
    ")"
   ]
  },
  {
   "cell_type": "code",
   "execution_count": 333,
   "metadata": {},
   "outputs": [],
   "source": [
    "balcony_type_mapping = {\"Нет\": \"Without\", \"Лоджия\": \"Loggia\", \"Балкон\": \"Balcony\", \"Два балкона\": \"Two balconies\"}\n",
    "df[\"balcony_type\"] = df[\"balcony_type\"].map(balcony_type_mapping)"
   ]
  },
  {
   "attachments": {},
   "cell_type": "markdown",
   "metadata": {},
   "source": [
    "## House type                      "
   ]
  },
  {
   "cell_type": "code",
   "execution_count": 334,
   "metadata": {},
   "outputs": [
    {
     "data": {
      "text/plain": [
       "array(['Каркасно-блочный', 'Кирпичный', 'Панельный', 'Монолитный',\n",
       "       'Силикатные блоки', 'Блок-комнаты', 'Бревенчатый', nan],\n",
       "      dtype=object)"
      ]
     },
     "execution_count": 334,
     "metadata": {},
     "output_type": "execute_result"
    }
   ],
   "source": [
    "df[\"house_type\"].unique()"
   ]
  },
  {
   "cell_type": "code",
   "execution_count": 335,
   "metadata": {},
   "outputs": [
    {
     "data": {
      "text/plain": [
       "Каркасно-блочный    4171\n",
       "Панельный           2636\n",
       "Кирпичный           1686\n",
       "Монолитный           552\n",
       "Блок-комнаты         227\n",
       "Силикатные блоки     195\n",
       "Бревенчатый           22\n",
       "Name: house_type, dtype: int64"
      ]
     },
     "execution_count": 335,
     "metadata": {},
     "output_type": "execute_result"
    }
   ],
   "source": [
    "df[\"house_type\"].value_counts()"
   ]
  },
  {
   "cell_type": "code",
   "execution_count": 336,
   "metadata": {},
   "outputs": [],
   "source": [
    "df[\"house_type\"] = df[\"house_type\"].fillna(df[\"house_type\"].mode()[0]) "
   ]
  },
  {
   "cell_type": "code",
   "execution_count": 337,
   "metadata": {},
   "outputs": [],
   "source": [
    "df = df[df[\"house_type\"] != \"Бревенчатый\"]"
   ]
  },
  {
   "cell_type": "code",
   "execution_count": 338,
   "metadata": {},
   "outputs": [],
   "source": [
    "house_type_mapping = {'Каркасно-блочный': 'frame-block', 'Панельный': 'panel', 'Кирпичный': 'brick',\n",
    "                  'Монолитный': 'monolithic', 'Блок-комнаты': 'block-rooms', 'Силикатные блоки': 'silicate'}\n",
    "df[\"house_type\"] = df[\"house_type\"].map(house_type_mapping)"
   ]
  },
  {
   "attachments": {},
   "cell_type": "markdown",
   "metadata": {},
   "source": [
    "## Near the metro station"
   ]
  },
  {
   "cell_type": "code",
   "execution_count": 339,
   "metadata": {},
   "outputs": [],
   "source": [
    "df[\"near_the_metro_station\"] = df['nearest_metro_station'].apply(lambda x: 'Yes' if x is not np.nan else 'No')"
   ]
  },
  {
   "attachments": {},
   "cell_type": "markdown",
   "metadata": {},
   "source": [
    "## Ceiling height                  "
   ]
  },
  {
   "cell_type": "code",
   "execution_count": 340,
   "metadata": {},
   "outputs": [
    {
     "data": {
      "text/plain": [
       "2        2.75\n",
       "5         NaN\n",
       "6        2.70\n",
       "7        2.73\n",
       "9        2.70\n",
       "         ... \n",
       "19344    3.20\n",
       "19348    2.76\n",
       "19351    2.70\n",
       "19352     NaN\n",
       "19355     NaN\n",
       "Name: ceiling_height, Length: 9479, dtype: float64"
      ]
     },
     "execution_count": 340,
     "metadata": {},
     "output_type": "execute_result"
    }
   ],
   "source": [
    "df[\"ceiling_height\"]"
   ]
  },
  {
   "cell_type": "code",
   "execution_count": 341,
   "metadata": {},
   "outputs": [],
   "source": [
    "df[\"ceiling_height\"] = df[\"ceiling_height\"].fillna(df[\"ceiling_height\"].mode()[0])"
   ]
  },
  {
   "cell_type": "code",
   "execution_count": 342,
   "metadata": {},
   "outputs": [
    {
     "data": {
      "text/plain": [
       "<Axes: xlabel='ceiling_height', ylabel='Count'>"
      ]
     },
     "execution_count": 342,
     "metadata": {},
     "output_type": "execute_result"
    },
    {
     "data": {
      "image/png": "[encoded data removed]",
      "text/plain": [
       "<Figure size 640x480 with 1 Axes>"
      ]
     },
     "metadata": {},
     "output_type": "display_data"
    }
   ],
   "source": [
    "sns.histplot(data=df, x=\"ceiling_height\")"
   ]
  },
  {
   "cell_type": "code",
   "execution_count": 343,
   "metadata": {},
   "outputs": [
    {
     "name": "stdout",
     "output_type": "stream",
     "text": [
      "<class 'pandas.core.frame.DataFrame'>\n",
      "Int64Index: 9479 entries, 2 to 19355\n",
      "Data columns (total 16 columns):\n",
      " #   Column                  Non-Null Count  Dtype  \n",
      "---  ------                  --------------  -----  \n",
      " 0   price                   9479 non-null   float64\n",
      " 1   town_district_name      9479 non-null   object \n",
      " 2   building_year           9479 non-null   float64\n",
      " 3   area_total              9479 non-null   float64\n",
      " 4   area_living             9479 non-null   float64\n",
      " 5   area_kitchen            9479 non-null   float64\n",
      " 6   rooms                   9479 non-null   int64  \n",
      " 7   storeys                 9479 non-null   float64\n",
      " 8   storey                  9479 non-null   float64\n",
      " 9   toilet                  9479 non-null   object \n",
      " 10  balcony_type            9479 non-null   object \n",
      " 11  house_type              9479 non-null   object \n",
      " 12  floor_type              7391 non-null   object \n",
      " 13  nearest_metro_station   6554 non-null   object \n",
      " 14  ceiling_height          9479 non-null   float64\n",
      " 15  near_the_metro_station  9479 non-null   object \n",
      "dtypes: float64(8), int64(1), object(7)\n",
      "memory usage: 1.2+ MB\n"
     ]
    }
   ],
   "source": [
    "df.info()"
   ]
  },
  {
   "cell_type": "code",
   "execution_count": 344,
   "metadata": {},
   "outputs": [],
   "source": [
    "df[[\"price\", \n",
    "\"town_district_name\", \n",
    "\"building_year\", \"area_total\",\n",
    "\"area_living\", \"area_kitchen\",\n",
    "\"rooms\",\"storeys\", \"storey\",\n",
    "\"toilet\", \"balcony_type\",\n",
    "\"house_type\",\n",
    "\"near_the_metro_station\",\n",
    "\"ceiling_height\"]].to_csv(\"../data/2023_02_18/cleaned_data.csv\", index=False)"
   ]
  }
 ],
 "metadata": {
  "kernelspec": {
   "display_name": "env",
   "language": "python",
   "name": "python3"
  },
  "language_info": {
   "codemirror_mode": {
    "name": "ipython",
    "version": 3
   },
   "file_extension": ".py",
   "mimetype": "text/x-python",
   "name": "python",
   "nbconvert_exporter": "python",
   "pygments_lexer": "ipython3",
   "version": "3.10.7"
  },
  "orig_nbformat": 4,
  "vscode": {
   "interpreter": {
    "hash": "d2fceb707cb0b0f0caae219197aa72489b0f9607fd8d94cf5c20289366ddc088"
   }
  }
 },
 "nbformat": 4,
 "nbformat_minor": 2
}
