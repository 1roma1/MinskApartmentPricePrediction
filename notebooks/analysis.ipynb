{
 "cells": [
  {
   "cell_type": "code",
   "execution_count": 219,
   "metadata": {},
   "outputs": [],
   "source": [
    "import joblib\n",
    "import numpy as np\n",
    "import pandas as pd\n",
    "import matplotlib.pyplot as plt \n",
    "import seaborn as sns; sns.set()"
   ]
  },
  {
   "cell_type": "code",
   "execution_count": 220,
   "metadata": {},
   "outputs": [
    {
     "data": {
      "text/html": [
       "<div>\n",
       "<style scoped>\n",
       "    .dataframe tbody tr th:only-of-type {\n",
       "        vertical-align: middle;\n",
       "    }\n",
       "\n",
       "    .dataframe tbody tr th {\n",
       "        vertical-align: top;\n",
       "    }\n",
       "\n",
       "    .dataframe thead th {\n",
       "        text-align: right;\n",
       "    }\n",
       "</style>\n",
       "<table border=\"1\" class=\"dataframe\">\n",
       "  <thead>\n",
       "    <tr style=\"text-align: right;\">\n",
       "      <th></th>\n",
       "      <th>code</th>\n",
       "      <th>created_at</th>\n",
       "      <th>updated_at</th>\n",
       "      <th>price</th>\n",
       "      <th>price_per_m2</th>\n",
       "      <th>slides</th>\n",
       "      <th>seller</th>\n",
       "      <th>town_district_name</th>\n",
       "      <th>town_sub_district_name</th>\n",
       "      <th>address</th>\n",
       "      <th>...</th>\n",
       "      <th>parking_place</th>\n",
       "      <th>nearest_metro_station</th>\n",
       "      <th>nearest_metro_station_distance</th>\n",
       "      <th>layout</th>\n",
       "      <th>neighbors</th>\n",
       "      <th>number_of_beds</th>\n",
       "      <th>term_of_sale</th>\n",
       "      <th>owner</th>\n",
       "      <th>ceiling_height</th>\n",
       "      <th>is_new_build</th>\n",
       "    </tr>\n",
       "  </thead>\n",
       "  <tbody>\n",
       "    <tr>\n",
       "      <th>1</th>\n",
       "      <td>1465891</td>\n",
       "      <td>2019-03-21T21:59:54+03:00</td>\n",
       "      <td>2022-12-23T12:50:25+03:00</td>\n",
       "      <td>99544.0</td>\n",
       "      <td>1418.0</td>\n",
       "      <td>['https://www.youtube.com/watch?v=vOCuCTLTsFQ'...</td>\n",
       "      <td>Хозяин</td>\n",
       "      <td>Центральный район</td>\n",
       "      <td>Лебяжий (Ржавец)</td>\n",
       "      <td>Минск Ильянская ул. 16</td>\n",
       "      <td>...</td>\n",
       "      <td>False</td>\n",
       "      <td>NaN</td>\n",
       "      <td>NaN</td>\n",
       "      <td>NaN</td>\n",
       "      <td>NaN</td>\n",
       "      <td>NaN</td>\n",
       "      <td>Чистая продажа</td>\n",
       "      <td>частная</td>\n",
       "      <td>2.75</td>\n",
       "      <td>True</td>\n",
       "    </tr>\n",
       "    <tr>\n",
       "      <th>2</th>\n",
       "      <td>2878389</td>\n",
       "      <td>2022-10-12T13:11:13+03:00</td>\n",
       "      <td>2022-12-22T14:19:04+03:00</td>\n",
       "      <td>75400.0</td>\n",
       "      <td>1189.0</td>\n",
       "      <td>['https://www.youtube.com/watch?v=D58zw-fXcx4&amp;...</td>\n",
       "      <td>Хозяин</td>\n",
       "      <td>Октябрьский район</td>\n",
       "      <td>Минск Мир (Minsk World)</td>\n",
       "      <td>Минск Белградская ул. 6</td>\n",
       "      <td>...</td>\n",
       "      <td>False</td>\n",
       "      <td>Аэродромная (2023)</td>\n",
       "      <td>500.0</td>\n",
       "      <td>свободная планировка</td>\n",
       "      <td>NaN</td>\n",
       "      <td>NaN</td>\n",
       "      <td>Чистая продажа</td>\n",
       "      <td>частная</td>\n",
       "      <td>3.03</td>\n",
       "      <td>True</td>\n",
       "    </tr>\n",
       "    <tr>\n",
       "      <th>4</th>\n",
       "      <td>2893900</td>\n",
       "      <td>2022-10-31T16:45:43+03:00</td>\n",
       "      <td>2022-12-23T15:28:36+03:00</td>\n",
       "      <td>145000.0</td>\n",
       "      <td>2385.0</td>\n",
       "      <td>['https://static.realt.by/user/g9/q/site1kmduq...</td>\n",
       "      <td>Агентство</td>\n",
       "      <td>Первомайский район</td>\n",
       "      <td>Макаенка</td>\n",
       "      <td>Минск Макаенка ул. 12 Г</td>\n",
       "      <td>...</td>\n",
       "      <td>True</td>\n",
       "      <td>Московская</td>\n",
       "      <td>700.0</td>\n",
       "      <td>свободная планировка</td>\n",
       "      <td>NaN</td>\n",
       "      <td>NaN</td>\n",
       "      <td>Чистая продажа</td>\n",
       "      <td>частная</td>\n",
       "      <td>2.75</td>\n",
       "      <td>True</td>\n",
       "    </tr>\n",
       "    <tr>\n",
       "      <th>5</th>\n",
       "      <td>2912931</td>\n",
       "      <td>2022-11-25T15:16:57+03:00</td>\n",
       "      <td>2022-12-19T16:26:15+03:00</td>\n",
       "      <td>212000.0</td>\n",
       "      <td>1898.0</td>\n",
       "      <td>['https://static.realt.by/user/6x/3/site1lwgc3...</td>\n",
       "      <td>Агентство</td>\n",
       "      <td>Центральный район</td>\n",
       "      <td>Червякова, Шевченко</td>\n",
       "      <td>Минск Нововиленская ул. 10</td>\n",
       "      <td>...</td>\n",
       "      <td>False</td>\n",
       "      <td>NaN</td>\n",
       "      <td>NaN</td>\n",
       "      <td>улучшенный проект</td>\n",
       "      <td>NaN</td>\n",
       "      <td>NaN</td>\n",
       "      <td>Чистая продажа</td>\n",
       "      <td>частная</td>\n",
       "      <td>2.70</td>\n",
       "      <td>False</td>\n",
       "    </tr>\n",
       "    <tr>\n",
       "      <th>7</th>\n",
       "      <td>2884112</td>\n",
       "      <td>2022-10-19T11:14:07+03:00</td>\n",
       "      <td>2022-12-22T09:17:36+03:00</td>\n",
       "      <td>119500.0</td>\n",
       "      <td>1802.0</td>\n",
       "      <td>['https://static.realt.by/user/u0/v/site1jzpzv...</td>\n",
       "      <td>Хозяин</td>\n",
       "      <td>Московский район</td>\n",
       "      <td>Немига, Короля, Клары Цеткин</td>\n",
       "      <td>Минск Короля ул. 18</td>\n",
       "      <td>...</td>\n",
       "      <td>True</td>\n",
       "      <td>Юбилейная площадь</td>\n",
       "      <td>250.0</td>\n",
       "      <td>брежневка</td>\n",
       "      <td>NaN</td>\n",
       "      <td>NaN</td>\n",
       "      <td>Чистая продажа</td>\n",
       "      <td>частная</td>\n",
       "      <td>NaN</td>\n",
       "      <td>False</td>\n",
       "    </tr>\n",
       "  </tbody>\n",
       "</table>\n",
       "<p>5 rows × 42 columns</p>\n",
       "</div>"
      ],
      "text/plain": [
       "      code                 created_at                 updated_at     price  \\\n",
       "1  1465891  2019-03-21T21:59:54+03:00  2022-12-23T12:50:25+03:00   99544.0   \n",
       "2  2878389  2022-10-12T13:11:13+03:00  2022-12-22T14:19:04+03:00   75400.0   \n",
       "4  2893900  2022-10-31T16:45:43+03:00  2022-12-23T15:28:36+03:00  145000.0   \n",
       "5  2912931  2022-11-25T15:16:57+03:00  2022-12-19T16:26:15+03:00  212000.0   \n",
       "7  2884112  2022-10-19T11:14:07+03:00  2022-12-22T09:17:36+03:00  119500.0   \n",
       "\n",
       "   price_per_m2                                             slides     seller  \\\n",
       "1        1418.0  ['https://www.youtube.com/watch?v=vOCuCTLTsFQ'...     Хозяин   \n",
       "2        1189.0  ['https://www.youtube.com/watch?v=D58zw-fXcx4&...     Хозяин   \n",
       "4        2385.0  ['https://static.realt.by/user/g9/q/site1kmduq...  Агентство   \n",
       "5        1898.0  ['https://static.realt.by/user/6x/3/site1lwgc3...  Агентство   \n",
       "7        1802.0  ['https://static.realt.by/user/u0/v/site1jzpzv...     Хозяин   \n",
       "\n",
       "   town_district_name        town_sub_district_name  \\\n",
       "1   Центральный район              Лебяжий (Ржавец)   \n",
       "2   Октябрьский район       Минск Мир (Minsk World)   \n",
       "4  Первомайский район                      Макаенка   \n",
       "5   Центральный район           Червякова, Шевченко   \n",
       "7    Московский район  Немига, Короля, Клары Цеткин   \n",
       "\n",
       "                      address  ...  parking_place  nearest_metro_station  \\\n",
       "1      Минск Ильянская ул. 16  ...          False                    NaN   \n",
       "2     Минск Белградская ул. 6  ...          False     Аэродромная (2023)   \n",
       "4     Минск Макаенка ул. 12 Г  ...           True             Московская   \n",
       "5  Минск Нововиленская ул. 10  ...          False                    NaN   \n",
       "7         Минск Короля ул. 18  ...           True      Юбилейная площадь   \n",
       "\n",
       "   nearest_metro_station_distance                layout  neighbors  \\\n",
       "1                             NaN                   NaN        NaN   \n",
       "2                           500.0  свободная планировка        NaN   \n",
       "4                           700.0  свободная планировка        NaN   \n",
       "5                             NaN     улучшенный проект        NaN   \n",
       "7                           250.0             брежневка        NaN   \n",
       "\n",
       "   number_of_beds    term_of_sale    owner  ceiling_height  is_new_build  \n",
       "1             NaN  Чистая продажа  частная            2.75          True  \n",
       "2             NaN  Чистая продажа  частная            3.03          True  \n",
       "4             NaN  Чистая продажа  частная            2.75          True  \n",
       "5             NaN  Чистая продажа  частная            2.70         False  \n",
       "7             NaN  Чистая продажа  частная             NaN         False  \n",
       "\n",
       "[5 rows x 42 columns]"
      ]
     },
     "execution_count": 220,
     "metadata": {},
     "output_type": "execute_result"
    }
   ],
   "source": [
    "df = pd.read_csv(\"../data/2022_12_23/apartment_data.csv\")\n",
    "df = df[df[\"building_year\"] < 2023] \n",
    "df = df[~df[\"price\"].isna()]\n",
    "df.head()"
   ]
  },
  {
   "cell_type": "code",
   "execution_count": 221,
   "metadata": {},
   "outputs": [],
   "source": [
    "df = df[[\"price\", \n",
    "\"town_district_name\", \n",
    "\"building_year\", \"area_total\", \n",
    "\"area_living\", \"area_kitchen\", \n",
    "\"rooms\",\"storeys\", \"storey\",\n",
    "\"toilet\", \"balcony_type\",\n",
    "\"house_type\", \"floor_type\",\n",
    "\"nearest_metro_station_distance\",\n",
    "\"ceiling_height\"]]"
   ]
  },
  {
   "cell_type": "code",
   "execution_count": 222,
   "metadata": {},
   "outputs": [
    {
     "data": {
      "text/html": [
       "<div>\n",
       "<style scoped>\n",
       "    .dataframe tbody tr th:only-of-type {\n",
       "        vertical-align: middle;\n",
       "    }\n",
       "\n",
       "    .dataframe tbody tr th {\n",
       "        vertical-align: top;\n",
       "    }\n",
       "\n",
       "    .dataframe thead th {\n",
       "        text-align: right;\n",
       "    }\n",
       "</style>\n",
       "<table border=\"1\" class=\"dataframe\">\n",
       "  <thead>\n",
       "    <tr style=\"text-align: right;\">\n",
       "      <th></th>\n",
       "      <th>price</th>\n",
       "      <th>town_district_name</th>\n",
       "      <th>building_year</th>\n",
       "      <th>area_total</th>\n",
       "      <th>area_living</th>\n",
       "      <th>area_kitchen</th>\n",
       "      <th>rooms</th>\n",
       "      <th>storeys</th>\n",
       "      <th>storey</th>\n",
       "      <th>toilet</th>\n",
       "      <th>balcony_type</th>\n",
       "      <th>house_type</th>\n",
       "      <th>floor_type</th>\n",
       "      <th>nearest_metro_station_distance</th>\n",
       "      <th>ceiling_height</th>\n",
       "    </tr>\n",
       "  </thead>\n",
       "  <tbody>\n",
       "    <tr>\n",
       "      <th>1</th>\n",
       "      <td>99544.0</td>\n",
       "      <td>Центральный район</td>\n",
       "      <td>2021.0</td>\n",
       "      <td>70.2</td>\n",
       "      <td>61.9</td>\n",
       "      <td>NaN</td>\n",
       "      <td>2</td>\n",
       "      <td>25.0</td>\n",
       "      <td>3.0</td>\n",
       "      <td>Раздельный</td>\n",
       "      <td>лоджия застекленная</td>\n",
       "      <td>Каркасно-блочный</td>\n",
       "      <td>NaN</td>\n",
       "      <td>NaN</td>\n",
       "      <td>2.75</td>\n",
       "    </tr>\n",
       "    <tr>\n",
       "      <th>2</th>\n",
       "      <td>75400.0</td>\n",
       "      <td>Октябрьский район</td>\n",
       "      <td>2022.0</td>\n",
       "      <td>63.4</td>\n",
       "      <td>55.0</td>\n",
       "      <td>NaN</td>\n",
       "      <td>3</td>\n",
       "      <td>25.0</td>\n",
       "      <td>25.0</td>\n",
       "      <td>Раздельный</td>\n",
       "      <td>лоджия застекленная</td>\n",
       "      <td>Каркасно-блочный</td>\n",
       "      <td>NaN</td>\n",
       "      <td>500.0</td>\n",
       "      <td>3.03</td>\n",
       "    </tr>\n",
       "    <tr>\n",
       "      <th>4</th>\n",
       "      <td>145000.0</td>\n",
       "      <td>Первомайский район</td>\n",
       "      <td>2021.0</td>\n",
       "      <td>60.8</td>\n",
       "      <td>53.5</td>\n",
       "      <td>NaN</td>\n",
       "      <td>3</td>\n",
       "      <td>25.0</td>\n",
       "      <td>22.0</td>\n",
       "      <td>Совмещенный</td>\n",
       "      <td>лоджия застекленная</td>\n",
       "      <td>Каркасно-блочный</td>\n",
       "      <td>ламинированные</td>\n",
       "      <td>700.0</td>\n",
       "      <td>2.75</td>\n",
       "    </tr>\n",
       "    <tr>\n",
       "      <th>5</th>\n",
       "      <td>212000.0</td>\n",
       "      <td>Центральный район</td>\n",
       "      <td>2011.0</td>\n",
       "      <td>111.7</td>\n",
       "      <td>76.3</td>\n",
       "      <td>NaN</td>\n",
       "      <td>4</td>\n",
       "      <td>10.0</td>\n",
       "      <td>5.0</td>\n",
       "      <td>2 и более</td>\n",
       "      <td>2 лоджии застекленные</td>\n",
       "      <td>Кирпичный</td>\n",
       "      <td>ламинированные</td>\n",
       "      <td>NaN</td>\n",
       "      <td>2.70</td>\n",
       "    </tr>\n",
       "    <tr>\n",
       "      <th>7</th>\n",
       "      <td>119500.0</td>\n",
       "      <td>Московский район</td>\n",
       "      <td>1970.0</td>\n",
       "      <td>66.3</td>\n",
       "      <td>47.8</td>\n",
       "      <td>5.8</td>\n",
       "      <td>3</td>\n",
       "      <td>5.0</td>\n",
       "      <td>2.0</td>\n",
       "      <td>Совмещенный</td>\n",
       "      <td>Лоджия</td>\n",
       "      <td>Кирпичный</td>\n",
       "      <td>паркет</td>\n",
       "      <td>250.0</td>\n",
       "      <td>NaN</td>\n",
       "    </tr>\n",
       "  </tbody>\n",
       "</table>\n",
       "</div>"
      ],
      "text/plain": [
       "      price  town_district_name  building_year  area_total  area_living  \\\n",
       "1   99544.0   Центральный район         2021.0        70.2         61.9   \n",
       "2   75400.0   Октябрьский район         2022.0        63.4         55.0   \n",
       "4  145000.0  Первомайский район         2021.0        60.8         53.5   \n",
       "5  212000.0   Центральный район         2011.0       111.7         76.3   \n",
       "7  119500.0    Московский район         1970.0        66.3         47.8   \n",
       "\n",
       "   area_kitchen  rooms  storeys  storey       toilet           balcony_type  \\\n",
       "1           NaN      2     25.0     3.0   Раздельный    лоджия застекленная   \n",
       "2           NaN      3     25.0    25.0   Раздельный    лоджия застекленная   \n",
       "4           NaN      3     25.0    22.0  Совмещенный    лоджия застекленная   \n",
       "5           NaN      4     10.0     5.0    2 и более  2 лоджии застекленные   \n",
       "7           5.8      3      5.0     2.0  Совмещенный                 Лоджия   \n",
       "\n",
       "         house_type      floor_type  nearest_metro_station_distance  \\\n",
       "1  Каркасно-блочный             NaN                             NaN   \n",
       "2  Каркасно-блочный             NaN                           500.0   \n",
       "4  Каркасно-блочный  ламинированные                           700.0   \n",
       "5         Кирпичный  ламинированные                             NaN   \n",
       "7         Кирпичный          паркет                           250.0   \n",
       "\n",
       "   ceiling_height  \n",
       "1            2.75  \n",
       "2            3.03  \n",
       "4            2.75  \n",
       "5            2.70  \n",
       "7             NaN  "
      ]
     },
     "execution_count": 222,
     "metadata": {},
     "output_type": "execute_result"
    }
   ],
   "source": [
    "df.head()"
   ]
  },
  {
   "cell_type": "code",
   "execution_count": 223,
   "metadata": {},
   "outputs": [
    {
     "name": "stdout",
     "output_type": "stream",
     "text": [
      "<class 'pandas.core.frame.DataFrame'>\n",
      "Int64Index: 9422 entries, 1 to 21379\n",
      "Data columns (total 15 columns):\n",
      " #   Column                          Non-Null Count  Dtype  \n",
      "---  ------                          --------------  -----  \n",
      " 0   price                           9422 non-null   float64\n",
      " 1   town_district_name              9254 non-null   object \n",
      " 2   building_year                   9422 non-null   float64\n",
      " 3   area_total                      9422 non-null   float64\n",
      " 4   area_living                     9373 non-null   float64\n",
      " 5   area_kitchen                    6823 non-null   float64\n",
      " 6   rooms                           9422 non-null   int64  \n",
      " 7   storeys                         9410 non-null   float64\n",
      " 8   storey                          9410 non-null   float64\n",
      " 9   toilet                          8995 non-null   object \n",
      " 10  balcony_type                    9336 non-null   object \n",
      " 11  house_type                      9413 non-null   object \n",
      " 12  floor_type                      7232 non-null   object \n",
      " 13  nearest_metro_station_distance  6505 non-null   float64\n",
      " 14  ceiling_height                  7633 non-null   float64\n",
      "dtypes: float64(9), int64(1), object(5)\n",
      "memory usage: 1.2+ MB\n"
     ]
    }
   ],
   "source": [
    "\n",
    "df.info()"
   ]
  },
  {
   "attachments": {},
   "cell_type": "markdown",
   "metadata": {},
   "source": [
    "# EDA"
   ]
  },
  {
   "attachments": {},
   "cell_type": "markdown",
   "metadata": {},
   "source": [
    "## Town district name"
   ]
  },
  {
   "cell_type": "code",
   "execution_count": 224,
   "metadata": {},
   "outputs": [
    {
     "data": {
      "text/plain": [
       "array(['Центральный район', 'Октябрьский район', 'Первомайский район',\n",
       "       'Московский район', 'Фрунзенский район', 'Советский район',\n",
       "       'Ленинский район', 'Заводской район', nan, 'Партизанский район'],\n",
       "      dtype=object)"
      ]
     },
     "execution_count": 224,
     "metadata": {},
     "output_type": "execute_result"
    }
   ],
   "source": [
    "df[\"town_district_name\"].unique()"
   ]
  },
  {
   "cell_type": "code",
   "execution_count": 225,
   "metadata": {},
   "outputs": [],
   "source": [
    "df[\"town_district_name\"] = df[\"town_district_name\"].fillna(df[\"town_district_name\"].mode().iloc[0])"
   ]
  },
  {
   "attachments": {},
   "cell_type": "markdown",
   "metadata": {},
   "source": [
    "## Building year"
   ]
  },
  {
   "cell_type": "code",
   "execution_count": 226,
   "metadata": {},
   "outputs": [
    {
     "data": {
      "text/plain": [
       "array([2021., 2022., 2011., 1970., 2001., 2020., 1971., 2012., 1984.,\n",
       "       2014., 2015., 1958., 1977., 1987., 1975., 2016., 1972., 2013.,\n",
       "       2019., 1974., 1982., 1963., 1981., 1996., 1962., 2018., 2002.,\n",
       "       1986., 2008., 1968., 2017.,    0., 2005., 1983., 2007., 1959.,\n",
       "       1954., 2006., 2010., 2004., 1976., 1965., 1980., 1960., 2003.,\n",
       "       1964., 1990., 1936., 1961., 1966., 1992., 1978., 1955., 1969.,\n",
       "       1988., 1967., 1973., 1999., 1994., 1993., 1957., 1953., 2009.,\n",
       "       1979., 1939., 1991., 1995., 1997., 1985., 1989., 1935., 1956.,\n",
       "       1998., 2000., 1950., 1917., 1951., 1949., 1947., 1940., 1938.,\n",
       "       1937., 1946., 1952., 1948., 1928., 1918., 1924., 1945., 1941.])"
      ]
     },
     "execution_count": 226,
     "metadata": {},
     "output_type": "execute_result"
    }
   ],
   "source": [
    "df[\"building_year\"].unique()"
   ]
  },
  {
   "attachments": {},
   "cell_type": "markdown",
   "metadata": {},
   "source": [
    "## Total area"
   ]
  },
  {
   "cell_type": "code",
   "execution_count": 227,
   "metadata": {},
   "outputs": [
    {
     "data": {
      "text/plain": [
       "<AxesSubplot: xlabel='area_total', ylabel='Count'>"
      ]
     },
     "execution_count": 227,
     "metadata": {},
     "output_type": "execute_result"
    },
    {
     "data": {
      "image/png": "[encoded data removed]",
      "text/plain": [
       "<Figure size 640x480 with 1 Axes>"
      ]
     },
     "metadata": {},
     "output_type": "display_data"
    }
   ],
   "source": [
    "sns.histplot(data=df, x=\"area_total\")"
   ]
  },
  {
   "attachments": {},
   "cell_type": "markdown",
   "metadata": {},
   "source": [
    "## Living area"
   ]
  },
  {
   "cell_type": "code",
   "execution_count": 228,
   "metadata": {},
   "outputs": [
    {
     "data": {
      "text/plain": [
       "<AxesSubplot: xlabel='area_living', ylabel='Count'>"
      ]
     },
     "execution_count": 228,
     "metadata": {},
     "output_type": "execute_result"
    },
    {
     "data": {
      "image/png": "[encoded data removed]",
      "text/plain": [
       "<Figure size 640x480 with 1 Axes>"
      ]
     },
     "metadata": {},
     "output_type": "display_data"
    }
   ],
   "source": [
    "sns.histplot(data=df, x=\"area_living\")"
   ]
  },
  {
   "cell_type": "code",
   "execution_count": 229,
   "metadata": {},
   "outputs": [
    {
     "data": {
      "text/html": [
       "<div>\n",
       "<style scoped>\n",
       "    .dataframe tbody tr th:only-of-type {\n",
       "        vertical-align: middle;\n",
       "    }\n",
       "\n",
       "    .dataframe tbody tr th {\n",
       "        vertical-align: top;\n",
       "    }\n",
       "\n",
       "    .dataframe thead th {\n",
       "        text-align: right;\n",
       "    }\n",
       "</style>\n",
       "<table border=\"1\" class=\"dataframe\">\n",
       "  <thead>\n",
       "    <tr style=\"text-align: right;\">\n",
       "      <th></th>\n",
       "      <th>living_area_percent</th>\n",
       "    </tr>\n",
       "    <tr>\n",
       "      <th>rooms</th>\n",
       "      <th></th>\n",
       "    </tr>\n",
       "  </thead>\n",
       "  <tbody>\n",
       "    <tr>\n",
       "      <th>1</th>\n",
       "      <td>0.592346</td>\n",
       "    </tr>\n",
       "    <tr>\n",
       "      <th>2</th>\n",
       "      <td>0.634244</td>\n",
       "    </tr>\n",
       "    <tr>\n",
       "      <th>3</th>\n",
       "      <td>0.652726</td>\n",
       "    </tr>\n",
       "    <tr>\n",
       "      <th>4</th>\n",
       "      <td>0.645171</td>\n",
       "    </tr>\n",
       "    <tr>\n",
       "      <th>5</th>\n",
       "      <td>0.585579</td>\n",
       "    </tr>\n",
       "    <tr>\n",
       "      <th>6</th>\n",
       "      <td>0.476279</td>\n",
       "    </tr>\n",
       "    <tr>\n",
       "      <th>7</th>\n",
       "      <td>0.674403</td>\n",
       "    </tr>\n",
       "    <tr>\n",
       "      <th>8</th>\n",
       "      <td>0.539676</td>\n",
       "    </tr>\n",
       "    <tr>\n",
       "      <th>9</th>\n",
       "      <td>0.570000</td>\n",
       "    </tr>\n",
       "  </tbody>\n",
       "</table>\n",
       "</div>"
      ],
      "text/plain": [
       "       living_area_percent\n",
       "rooms                     \n",
       "1                 0.592346\n",
       "2                 0.634244\n",
       "3                 0.652726\n",
       "4                 0.645171\n",
       "5                 0.585579\n",
       "6                 0.476279\n",
       "7                 0.674403\n",
       "8                 0.539676\n",
       "9                 0.570000"
      ]
     },
     "execution_count": 229,
     "metadata": {},
     "output_type": "execute_result"
    }
   ],
   "source": [
    "df.assign(\n",
    "    living_area_percent = df[\"area_living\"]/df[\"area_total\"]\n",
    ").loc[:, [\"living_area_percent\", \"rooms\"]].groupby(\"rooms\").mean()"
   ]
  },
  {
   "attachments": {},
   "cell_type": "markdown",
   "metadata": {},
   "source": [
    "## Kitchen area"
   ]
  },
  {
   "cell_type": "code",
   "execution_count": 230,
   "metadata": {},
   "outputs": [
    {
     "data": {
      "text/plain": [
       "2599"
      ]
     },
     "execution_count": 230,
     "metadata": {},
     "output_type": "execute_result"
    }
   ],
   "source": [
    "len(df[df[\"area_kitchen\"].isna()])"
   ]
  },
  {
   "cell_type": "code",
   "execution_count": 231,
   "metadata": {},
   "outputs": [
    {
     "data": {
      "text/plain": [
       "<AxesSubplot: xlabel='area_kitchen', ylabel='Count'>"
      ]
     },
     "execution_count": 231,
     "metadata": {},
     "output_type": "execute_result"
    },
    {
     "data": {
      "image/png": "[encoded data removed]",
      "text/plain": [
       "<Figure size 640x480 with 1 Axes>"
      ]
     },
     "metadata": {},
     "output_type": "display_data"
    }
   ],
   "source": [
    "sns.histplot(data=df, x=\"area_kitchen\")"
   ]
  },
  {
   "cell_type": "code",
   "execution_count": 232,
   "metadata": {},
   "outputs": [
    {
     "data": {
      "text/html": [
       "<div>\n",
       "<style scoped>\n",
       "    .dataframe tbody tr th:only-of-type {\n",
       "        vertical-align: middle;\n",
       "    }\n",
       "\n",
       "    .dataframe tbody tr th {\n",
       "        vertical-align: top;\n",
       "    }\n",
       "\n",
       "    .dataframe thead th {\n",
       "        text-align: right;\n",
       "    }\n",
       "</style>\n",
       "<table border=\"1\" class=\"dataframe\">\n",
       "  <thead>\n",
       "    <tr style=\"text-align: right;\">\n",
       "      <th></th>\n",
       "      <th>kitchen_area_percent</th>\n",
       "    </tr>\n",
       "    <tr>\n",
       "      <th>rooms</th>\n",
       "      <th></th>\n",
       "    </tr>\n",
       "  </thead>\n",
       "  <tbody>\n",
       "    <tr>\n",
       "      <th>1</th>\n",
       "      <td>0.223606</td>\n",
       "    </tr>\n",
       "    <tr>\n",
       "      <th>2</th>\n",
       "      <td>0.175024</td>\n",
       "    </tr>\n",
       "    <tr>\n",
       "      <th>3</th>\n",
       "      <td>0.142088</td>\n",
       "    </tr>\n",
       "    <tr>\n",
       "      <th>4</th>\n",
       "      <td>0.129757</td>\n",
       "    </tr>\n",
       "    <tr>\n",
       "      <th>5</th>\n",
       "      <td>0.115814</td>\n",
       "    </tr>\n",
       "    <tr>\n",
       "      <th>6</th>\n",
       "      <td>0.143350</td>\n",
       "    </tr>\n",
       "    <tr>\n",
       "      <th>7</th>\n",
       "      <td>0.064011</td>\n",
       "    </tr>\n",
       "    <tr>\n",
       "      <th>8</th>\n",
       "      <td>0.167013</td>\n",
       "    </tr>\n",
       "    <tr>\n",
       "      <th>9</th>\n",
       "      <td>0.072222</td>\n",
       "    </tr>\n",
       "  </tbody>\n",
       "</table>\n",
       "</div>"
      ],
      "text/plain": [
       "       kitchen_area_percent\n",
       "rooms                      \n",
       "1                  0.223606\n",
       "2                  0.175024\n",
       "3                  0.142088\n",
       "4                  0.129757\n",
       "5                  0.115814\n",
       "6                  0.143350\n",
       "7                  0.064011\n",
       "8                  0.167013\n",
       "9                  0.072222"
      ]
     },
     "execution_count": 232,
     "metadata": {},
     "output_type": "execute_result"
    }
   ],
   "source": [
    "df.assign(\n",
    "    kitchen_area_percent = df[\"area_kitchen\"]/df[\"area_total\"]\n",
    ").loc[:, [\"kitchen_area_percent\", \"rooms\"]].groupby(\"rooms\").mean()"
   ]
  },
  {
   "attachments": {},
   "cell_type": "markdown",
   "metadata": {},
   "source": [
    "## Rooms"
   ]
  },
  {
   "cell_type": "code",
   "execution_count": 233,
   "metadata": {},
   "outputs": [
    {
     "data": {
      "text/plain": [
       "array([2, 3, 4, 1, 6, 5, 9, 8, 7], dtype=int64)"
      ]
     },
     "execution_count": 233,
     "metadata": {},
     "output_type": "execute_result"
    }
   ],
   "source": [
    "df[\"rooms\"].unique()"
   ]
  },
  {
   "cell_type": "code",
   "execution_count": 234,
   "metadata": {},
   "outputs": [
    {
     "data": {
      "text/plain": [
       "3    3299\n",
       "2    2962\n",
       "1    1982\n",
       "4    1025\n",
       "5     110\n",
       "6      39\n",
       "7       3\n",
       "9       1\n",
       "8       1\n",
       "Name: rooms, dtype: int64"
      ]
     },
     "execution_count": 234,
     "metadata": {},
     "output_type": "execute_result"
    }
   ],
   "source": [
    "df[\"rooms\"].value_counts()"
   ]
  },
  {
   "cell_type": "code",
   "execution_count": 235,
   "metadata": {},
   "outputs": [
    {
     "data": {
      "text/plain": [
       "<AxesSubplot: xlabel='rooms', ylabel='count'>"
      ]
     },
     "execution_count": 235,
     "metadata": {},
     "output_type": "execute_result"
    },
    {
     "data": {
      "image/png": "[encoded data removed]",
      "text/plain": [
       "<Figure size 640x480 with 1 Axes>"
      ]
     },
     "metadata": {},
     "output_type": "display_data"
    }
   ],
   "source": [
    "sns.countplot(x=df[\"rooms\"])"
   ]
  },
  {
   "attachments": {},
   "cell_type": "markdown",
   "metadata": {},
   "source": [
    "## Storeys                         "
   ]
  },
  {
   "cell_type": "code",
   "execution_count": 236,
   "metadata": {},
   "outputs": [
    {
     "data": {
      "text/plain": [
       "array([25., 10.,  5., 14., 18., 20., 15., 26., 16., 17.,  9., 12., 19.,\n",
       "        2., 21., 22., 24., 13.,  4.,  6., 23.,  3.,  7.,  8., 11., nan,\n",
       "       32.,  1., 27., 30., 37.,  0., 29., 33.])"
      ]
     },
     "execution_count": 236,
     "metadata": {},
     "output_type": "execute_result"
    }
   ],
   "source": [
    "df[\"storeys\"].unique()"
   ]
  },
  {
   "cell_type": "code",
   "execution_count": 237,
   "metadata": {},
   "outputs": [],
   "source": [
    "df[\"storeys\"] = df[\"storeys\"].fillna(value=1)"
   ]
  },
  {
   "attachments": {},
   "cell_type": "markdown",
   "metadata": {},
   "source": [
    "## Storey"
   ]
  },
  {
   "cell_type": "code",
   "execution_count": 238,
   "metadata": {},
   "outputs": [
    {
     "data": {
      "text/plain": [
       "array([ 3., 25., 22.,  5.,  2., 10., 15., 16.,  4.,  7., 13., 11.,  9.,\n",
       "        8., 19., 23.,  1.,  6., 18., 17., 21., 12., 20., 14., 24., nan,\n",
       "       28., 27., 32., 30.])"
      ]
     },
     "execution_count": 238,
     "metadata": {},
     "output_type": "execute_result"
    }
   ],
   "source": [
    "df[\"storey\"].unique()"
   ]
  },
  {
   "cell_type": "code",
   "execution_count": 239,
   "metadata": {},
   "outputs": [],
   "source": [
    "df[\"storey\"] = df[\"storey\"].fillna(value=1)"
   ]
  },
  {
   "attachments": {},
   "cell_type": "markdown",
   "metadata": {},
   "source": [
    "## Toilet"
   ]
  },
  {
   "cell_type": "code",
   "execution_count": 240,
   "metadata": {},
   "outputs": [
    {
     "data": {
      "text/plain": [
       "array(['Раздельный', 'Совмещенный', '2 и более', nan, '3 сан.узла',\n",
       "       '4 сан.узла'], dtype=object)"
      ]
     },
     "execution_count": 240,
     "metadata": {},
     "output_type": "execute_result"
    }
   ],
   "source": [
    "df[\"toilet\"].unique()"
   ]
  },
  {
   "cell_type": "code",
   "execution_count": 241,
   "metadata": {},
   "outputs": [
    {
     "data": {
      "text/plain": [
       "Раздельный     4546\n",
       "Совмещенный    3295\n",
       "2 и более      1042\n",
       "3 сан.узла       95\n",
       "4 сан.узла       17\n",
       "Name: toilet, dtype: int64"
      ]
     },
     "execution_count": 241,
     "metadata": {},
     "output_type": "execute_result"
    }
   ],
   "source": [
    "df[\"toilet\"].value_counts()"
   ]
  },
  {
   "cell_type": "code",
   "execution_count": 242,
   "metadata": {},
   "outputs": [],
   "source": [
    "def process_toilet_feature(x):\n",
    "    if x in [\"Раздельный\", \"Совмещенный\", \"2 и более\"]:\n",
    "        return x\n",
    "    elif x in [\"3 сан. узла\", \"4 сан. узла\"]:\n",
    "        return \"2 и более\""
   ]
  },
  {
   "cell_type": "code",
   "execution_count": 243,
   "metadata": {},
   "outputs": [],
   "source": [
    "df[\"toilet\"] = (\n",
    "    df[\"toilet\"]\n",
    "    .apply(process_toilet_feature)\n",
    "    .fillna(df[\"toilet\"].mode()[0])\n",
    ")"
   ]
  },
  {
   "attachments": {},
   "cell_type": "markdown",
   "metadata": {},
   "source": [
    "## Balcony type                    "
   ]
  },
  {
   "cell_type": "code",
   "execution_count": 244,
   "metadata": {},
   "outputs": [
    {
     "data": {
      "text/plain": [
       "array(['лоджия застекленная', '2 лоджии застекленные', 'Лоджия',\n",
       "       'балкон застекленный', '2 лоджии', 'балкон', 'Нет',\n",
       "       '2 балкона 1 застекленный', '2 балкона застекленные',\n",
       "       'балкон и лоджия', 'лоджия из кухни застеклена', 'терраса',\n",
       "       '2 лоджии 1 застекленная', 'балкон застекленный + вагонка',\n",
       "       '2 балкона застекленные + вагонка', '2 балкона', 'балкон+терраса',\n",
       "       nan, 'лоджия из кухни застеклена + вагонка',\n",
       "       '3 лоджии застекленные', 'лоджия застекленная + вагонка',\n",
       "       '3 лоджии', '3 балкона застекленных', '3 балкона',\n",
       "       'лоджия из кухни', '2 лоджии застекленные + вагонка', 'веранда'],\n",
       "      dtype=object)"
      ]
     },
     "execution_count": 244,
     "metadata": {},
     "output_type": "execute_result"
    }
   ],
   "source": [
    "df[\"balcony_type\"].unique()"
   ]
  },
  {
   "cell_type": "code",
   "execution_count": 245,
   "metadata": {},
   "outputs": [
    {
     "data": {
      "text/plain": [
       "лоджия застекленная                     4387\n",
       "балкон застекленный                      864\n",
       "Лоджия                                   780\n",
       "Нет                                      750\n",
       "2 лоджии застекленные                    703\n",
       "балкон                                   678\n",
       "2 лоджии                                 212\n",
       "лоджия из кухни застеклена               166\n",
       "балкон и лоджия                          150\n",
       "2 балкона                                110\n",
       "2 балкона застекленные                   108\n",
       "терраса                                   96\n",
       "лоджия застекленная + вагонка             64\n",
       "балкон+терраса                            53\n",
       "3 лоджии застекленные                     41\n",
       "3 лоджии                                  31\n",
       "балкон застекленный + вагонка             27\n",
       "2 лоджии 1 застекленная                   27\n",
       "2 лоджии застекленные + вагонка           19\n",
       "лоджия из кухни                           16\n",
       "3 балкона                                 15\n",
       "2 балкона 1 застекленный                  13\n",
       "2 балкона застекленные + вагонка          11\n",
       "3 балкона застекленных                     8\n",
       "веранда                                    4\n",
       "лоджия из кухни застеклена + вагонка       3\n",
       "Name: balcony_type, dtype: int64"
      ]
     },
     "execution_count": 245,
     "metadata": {},
     "output_type": "execute_result"
    }
   ],
   "source": [
    "df[\"balcony_type\"].value_counts()"
   ]
  },
  {
   "cell_type": "code",
   "execution_count": 246,
   "metadata": {},
   "outputs": [],
   "source": [
    "def map_balcony(x):\n",
    "    loggias = [\"лоджия застекленная\", \"лоджия\", \"лоджия из кухни застеклена\",\n",
    "           \"лоджия из кухни\", \"лоджия из кухни застеклена + вагонка\", \"балкон и лоджия\"]\n",
    "    balconies = [\"балкон застекленный\", \"балкон\", \"балкон застекленный + вагонка\"]\n",
    "    two_balconies = [\"2 лоджии застекленные\", \"2 лоджии\", \"2 балкона\", \"2 балкона застекленные\", \n",
    "                     \"балкон+терраса\", \"3 лоджии застекленные\", \"балкон+терраса\", \n",
    "                     \"2 лоджии застекленные + вагонка\", \"3 лоджии\", \"3 балкона\", \"2 балкона застекленные + вагонка\",\n",
    "                     \"2 лоджии 1 застекленная\", \"3 балкона застекленных\", \"2 балкона 1 застекленный\"]\n",
    "\n",
    "    if x == 'Нет':\n",
    "        return 'Нет'\n",
    "    elif x in loggias:\n",
    "        return 'Лоджия'\n",
    "    elif x in balconies:\n",
    "        return 'Балкон'\n",
    "    elif x in two_balconies:\n",
    "        return 'Два балкона'\n",
    "    else:\n",
    "        return np.nan"
   ]
  },
  {
   "cell_type": "code",
   "execution_count": 247,
   "metadata": {},
   "outputs": [],
   "source": [
    "df[\"balcony_type\"] = (\n",
    "    df[\"balcony_type\"]\n",
    "    .apply(map_balcony)\n",
    "    .fillna(df[\"balcony_type\"].mode()[0])\n",
    ")"
   ]
  },
  {
   "attachments": {},
   "cell_type": "markdown",
   "metadata": {},
   "source": [
    "## House type                      "
   ]
  },
  {
   "cell_type": "code",
   "execution_count": 248,
   "metadata": {},
   "outputs": [
    {
     "data": {
      "text/plain": [
       "array(['Каркасно-блочный', 'Кирпичный', 'Панельный', 'Монолитный',\n",
       "       'Силикатные блоки', 'Блок-комнаты', 'Бревенчатый', nan],\n",
       "      dtype=object)"
      ]
     },
     "execution_count": 248,
     "metadata": {},
     "output_type": "execute_result"
    }
   ],
   "source": [
    "df[\"house_type\"].unique()"
   ]
  },
  {
   "cell_type": "code",
   "execution_count": 249,
   "metadata": {},
   "outputs": [
    {
     "data": {
      "text/plain": [
       "Каркасно-блочный    4001\n",
       "Панельный           2634\n",
       "Кирпичный           1679\n",
       "Монолитный           672\n",
       "Блок-комнаты         206\n",
       "Силикатные блоки     201\n",
       "Бревенчатый           20\n",
       "Name: house_type, dtype: int64"
      ]
     },
     "execution_count": 249,
     "metadata": {},
     "output_type": "execute_result"
    }
   ],
   "source": [
    "df[\"house_type\"].value_counts()"
   ]
  },
  {
   "cell_type": "code",
   "execution_count": 250,
   "metadata": {},
   "outputs": [],
   "source": [
    "df[\"house_type\"] = df[\"house_type\"].fillna(df[\"house_type\"].mode()[0]) "
   ]
  },
  {
   "attachments": {},
   "cell_type": "markdown",
   "metadata": {},
   "source": [
    "## Floor type"
   ]
  },
  {
   "cell_type": "code",
   "execution_count": 251,
   "metadata": {},
   "outputs": [
    {
     "data": {
      "text/plain": [
       "array([nan, 'ламинированные', 'паркет', 'бетонная стяжка', 'линолеум',\n",
       "       'ДСП', 'плитка', 'деревянные', 'ковровое покрытие'], dtype=object)"
      ]
     },
     "execution_count": 251,
     "metadata": {},
     "output_type": "execute_result"
    }
   ],
   "source": [
    "df[\"floor_type\"].unique()"
   ]
  },
  {
   "cell_type": "code",
   "execution_count": 252,
   "metadata": {},
   "outputs": [
    {
     "data": {
      "text/plain": [
       "ламинированные       2714\n",
       "бетонная стяжка      1835\n",
       "паркет               1043\n",
       "линолеум              913\n",
       "деревянные            468\n",
       "плитка                161\n",
       "ДСП                    80\n",
       "ковровое покрытие      18\n",
       "Name: floor_type, dtype: int64"
      ]
     },
     "execution_count": 252,
     "metadata": {},
     "output_type": "execute_result"
    }
   ],
   "source": [
    "df[\"floor_type\"].value_counts()"
   ]
  },
  {
   "cell_type": "code",
   "execution_count": 253,
   "metadata": {},
   "outputs": [],
   "source": [
    "df[\"floor_type\"] = df[\"floor_type\"].fillna(df[\"floor_type\"].mode()[0])"
   ]
  },
  {
   "attachments": {},
   "cell_type": "markdown",
   "metadata": {},
   "source": [
    "## Nearest metro station distance  "
   ]
  },
  {
   "cell_type": "code",
   "execution_count": 254,
   "metadata": {},
   "outputs": [
    {
     "data": {
      "text/plain": [
       "1          NaN\n",
       "2        500.0\n",
       "4        700.0\n",
       "5          NaN\n",
       "7        250.0\n",
       "         ...  \n",
       "21360    650.0\n",
       "21368    950.0\n",
       "21371      NaN\n",
       "21376    250.0\n",
       "21379    550.0\n",
       "Name: nearest_metro_station_distance, Length: 9422, dtype: float64"
      ]
     },
     "execution_count": 254,
     "metadata": {},
     "output_type": "execute_result"
    }
   ],
   "source": [
    "df[\"nearest_metro_station_distance\"]"
   ]
  },
  {
   "cell_type": "code",
   "execution_count": 255,
   "metadata": {},
   "outputs": [],
   "source": [
    "df[\"nearest_metro_station_distance\"] = df[\"nearest_metro_station_distance\"].fillna(0)"
   ]
  },
  {
   "attachments": {},
   "cell_type": "markdown",
   "metadata": {},
   "source": [
    "## Ceiling height                  "
   ]
  },
  {
   "cell_type": "code",
   "execution_count": 256,
   "metadata": {},
   "outputs": [
    {
     "data": {
      "text/plain": [
       "1        2.75\n",
       "2        3.03\n",
       "4        2.75\n",
       "5        2.70\n",
       "7         NaN\n",
       "         ... \n",
       "21360    2.70\n",
       "21368    2.74\n",
       "21371    2.70\n",
       "21376    2.90\n",
       "21379    2.50\n",
       "Name: ceiling_height, Length: 9422, dtype: float64"
      ]
     },
     "execution_count": 256,
     "metadata": {},
     "output_type": "execute_result"
    }
   ],
   "source": [
    "df[\"ceiling_height\"]"
   ]
  },
  {
   "cell_type": "code",
   "execution_count": 257,
   "metadata": {},
   "outputs": [],
   "source": [
    "df[\"ceiling_height\"] = df[\"ceiling_height\"].fillna(df[\"ceiling_height\"].mode()[0])"
   ]
  },
  {
   "cell_type": "code",
   "execution_count": 258,
   "metadata": {},
   "outputs": [
    {
     "data": {
      "text/plain": [
       "<AxesSubplot: xlabel='ceiling_height', ylabel='Count'>"
      ]
     },
     "execution_count": 258,
     "metadata": {},
     "output_type": "execute_result"
    },
    {
     "data": {
      "image/png": "[encoded data removed]",
      "text/plain": [
       "<Figure size 640x480 with 1 Axes>"
      ]
     },
     "metadata": {},
     "output_type": "display_data"
    }
   ],
   "source": [
    "sns.histplot(data=df, x=\"ceiling_height\")"
   ]
  },
  {
   "cell_type": "code",
   "execution_count": 259,
   "metadata": {},
   "outputs": [
    {
     "name": "stdout",
     "output_type": "stream",
     "text": [
      "<class 'pandas.core.frame.DataFrame'>\n",
      "Int64Index: 9422 entries, 1 to 21379\n",
      "Data columns (total 15 columns):\n",
      " #   Column                          Non-Null Count  Dtype  \n",
      "---  ------                          --------------  -----  \n",
      " 0   price                           9422 non-null   float64\n",
      " 1   town_district_name              9422 non-null   object \n",
      " 2   building_year                   9422 non-null   float64\n",
      " 3   area_total                      9422 non-null   float64\n",
      " 4   area_living                     9373 non-null   float64\n",
      " 5   area_kitchen                    6823 non-null   float64\n",
      " 6   rooms                           9422 non-null   int64  \n",
      " 7   storeys                         9422 non-null   float64\n",
      " 8   storey                          9422 non-null   float64\n",
      " 9   toilet                          9422 non-null   object \n",
      " 10  balcony_type                    9422 non-null   object \n",
      " 11  house_type                      9422 non-null   object \n",
      " 12  floor_type                      9422 non-null   object \n",
      " 13  nearest_metro_station_distance  9422 non-null   float64\n",
      " 14  ceiling_height                  9422 non-null   float64\n",
      "dtypes: float64(9), int64(1), object(5)\n",
      "memory usage: 1.2+ MB\n"
     ]
    }
   ],
   "source": [
    "df.info()"
   ]
  },
  {
   "cell_type": "code",
   "execution_count": 260,
   "metadata": {},
   "outputs": [],
   "source": [
    "df[[\"price\", \n",
    "\"town_district_name\", \n",
    "\"building_year\", \"area_total\", \n",
    "\"rooms\",\"storeys\", \"storey\",\n",
    "\"toilet\", \"balcony_type\",\n",
    "\"house_type\", \"floor_type\",\n",
    "\"nearest_metro_station_distance\",\n",
    "\"ceiling_height\"]].to_csv(\"../data/2022_12_23/cleaned_data.csv\", index=False)"
   ]
  }
 ],
 "metadata": {
  "kernelspec": {
   "display_name": "env",
   "language": "python",
   "name": "python3"
  },
  "language_info": {
   "codemirror_mode": {
    "name": "ipython",
    "version": 3
   },
   "file_extension": ".py",
   "mimetype": "text/x-python",
   "name": "python",
   "nbconvert_exporter": "python",
   "pygments_lexer": "ipython3",
   "version": "3.10.7"
  },
  "orig_nbformat": 4,
  "vscode": {
   "interpreter": {
    "hash": "d2fceb707cb0b0f0caae219197aa72489b0f9607fd8d94cf5c20289366ddc088"
   }
  }
 },
 "nbformat": 4,
 "nbformat_minor": 2
}
